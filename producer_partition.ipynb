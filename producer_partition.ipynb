{
 "cells": [
  {
   "cell_type": "code",
   "execution_count": 6,
   "id": "de41f617",
   "metadata": {},
   "outputs": [],
   "source": [
    "from time import sleep\n",
    "from json import dumps\n",
    "from kafka import KafkaProducer"
   ]
  },
  {
   "cell_type": "code",
   "execution_count": 7,
   "id": "6972966c",
   "metadata": {},
   "outputs": [],
   "source": [
    "#задаем отправителя сообщений:\n",
    "producer = KafkaProducer(bootstrap_servers=['localhost:9092'],\n",
    "                         value_serializer=lambda x:\n",
    "                         dumps(x).encode('utf-8'),\n",
    "                         api_version=(0, 10, 1),\n",
    "                         security_protocol='PLAINTEXT')"
   ]
  },
  {
   "cell_type": "code",
   "execution_count": 8,
   "id": "dd3ec0b8",
   "metadata": {},
   "outputs": [
    {
     "data": {
      "text/plain": [
       "CreateTopicsResponse_v3(throttle_time_ms=0, topic_errors=[(topic='first_partitioned_topic_via_kafka', error_code=0, error_message=None)])"
      ]
     },
     "execution_count": 8,
     "metadata": {},
     "output_type": "execute_result"
    }
   ],
   "source": [
    "from kafka.admin import KafkaAdminClient, NewTopic\n",
    "#задаем API администратора для формирования топика и партицирования топика: \n",
    "#два получателя - два раздела одного топика - каждому получателю свой раздел (по одному сообщению каждому)\n",
    "admin = KafkaAdminClient(\n",
    "        client_id ='admin',\n",
    "        bootstrap_servers=['localhost:9092'],\n",
    "        security_protocol='PLAINTEXT',\n",
    "    )\n",
    "\n",
    "topic_name = \"first_partitioned_topic_via_kafka\"\n",
    "\n",
    "topic = NewTopic(name=topic_name, num_partitions=2, replication_factor=1)\n",
    "\n",
    "admin.create_topics([topic])"
   ]
  },
  {
   "cell_type": "code",
   "execution_count": 9,
   "id": "c8b5e12d",
   "metadata": {},
   "outputs": [
    {
     "data": {
      "text/plain": [
       "<kafka.producer.future.FutureRecordMetadata at 0x1121da020>"
      ]
     },
     "execution_count": 9,
     "metadata": {},
     "output_type": "execute_result"
    }
   ],
   "source": [
    "#первый раздел топика:\n",
    "producer.send(topic_name, value={'the first  part of topic for consumer1' : 1}, partition=0)\n",
    "\n",
    "#второй раздел топика:\n",
    "producer.send(topic_name, value={'the second part of topic for consumer2' : 2}, partition=1)\n",
    "\n",
    "#блокировка отправителя, пока сообщения не будут доставлены:\n",
    "#producer.flush()"
   ]
  },
  {
   "cell_type": "code",
   "execution_count": null,
   "id": "6b1c91a6",
   "metadata": {},
   "outputs": [],
   "source": []
  }
 ],
 "metadata": {
  "kernelspec": {
   "display_name": "Python 3 (ipykernel)",
   "language": "python",
   "name": "python3"
  },
  "language_info": {
   "codemirror_mode": {
    "name": "ipython",
    "version": 3
   },
   "file_extension": ".py",
   "mimetype": "text/x-python",
   "name": "python",
   "nbconvert_exporter": "python",
   "pygments_lexer": "ipython3",
   "version": "3.10.5"
  }
 },
 "nbformat": 4,
 "nbformat_minor": 5
}
