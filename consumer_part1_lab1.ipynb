{
 "cells": [
  {
   "cell_type": "code",
   "execution_count": 1,
   "id": "f80ce2ca",
   "metadata": {},
   "outputs": [],
   "source": [
    "from kafka import TopicPartition\n",
    "from kafka import KafkaConsumer\n",
    "import json"
   ]
  },
  {
   "cell_type": "code",
   "execution_count": 2,
   "id": "9898ae2b",
   "metadata": {},
   "outputs": [],
   "source": [
    "#задаем второго получателя:\n",
    "topic_name = \"first_partitioned_topic_via_kafka\"\n",
    "consumer = KafkaConsumer(\n",
    "     group_id=\"topic_partitioned\",\n",
    "     bootstrap_servers=['localhost:9092'],\n",
    "     auto_offset_reset='earliest',\n",
    "     enable_auto_commit=True,\n",
    "     api_version=(0, 10, 1),\n",
    "     security_protocol='PLAINTEXT')"
   ]
  },
  {
   "cell_type": "code",
   "execution_count": null,
   "id": "63c9d249",
   "metadata": {},
   "outputs": [
    {
     "name": "stdout",
     "output_type": "stream",
     "text": [
      "p=1 value=b'{\"the second part of topic for consumer2\": 2}'\n"
     ]
    }
   ],
   "source": [
    "#привязываем второго получателя к топику (получает второй раздел топика, 2-е сообщение):\n",
    "consumer.assign([TopicPartition(topic_name, 1)])\n",
    "consumer.subscription()\n",
    "for message in consumer:\n",
    "    print (\"p=%d value=%s\" % (message.partition, message.value))"
   ]
  },
  {
   "cell_type": "code",
   "execution_count": null,
   "id": "fba53293",
   "metadata": {},
   "outputs": [],
   "source": []
  }
 ],
 "metadata": {
  "kernelspec": {
   "display_name": "Python 3 (ipykernel)",
   "language": "python",
   "name": "python3"
  },
  "language_info": {
   "codemirror_mode": {
    "name": "ipython",
    "version": 3
   },
   "file_extension": ".py",
   "mimetype": "text/x-python",
   "name": "python",
   "nbconvert_exporter": "python",
   "pygments_lexer": "ipython3",
   "version": "3.10.5"
  }
 },
 "nbformat": 4,
 "nbformat_minor": 5
}
